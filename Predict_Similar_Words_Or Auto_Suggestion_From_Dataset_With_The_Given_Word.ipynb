{
 "cells": [
  {
   "cell_type": "markdown",
   "id": "7c4f90fa",
   "metadata": {},
   "source": [
    "# Predict Similar Words Or Auto Suggestion  For The Given Word From The DataBase\n",
    "### Data Source - Wikipedia"
   ]
  },
  {
   "cell_type": "markdown",
   "id": "a1937689",
   "metadata": {},
   "source": [
    "### Library"
   ]
  },
  {
   "cell_type": "code",
   "execution_count": 1,
   "id": "87c44cf3",
   "metadata": {},
   "outputs": [],
   "source": [
    "# !pip install gensim==3.2.0"
   ]
  },
  {
   "cell_type": "code",
   "execution_count": 2,
   "id": "b6602410",
   "metadata": {},
   "outputs": [],
   "source": [
    "import warnings\n",
    "warnings.filterwarnings(\"ignore\")"
   ]
  },
  {
   "cell_type": "code",
   "execution_count": 3,
   "id": "10777edf",
   "metadata": {},
   "outputs": [
    {
     "name": "stderr",
     "output_type": "stream",
     "text": [
      "Slow version of gensim.models.doc2vec is being used\n",
      "Slow version of Fasttext is being used\n"
     ]
    }
   ],
   "source": [
    "import re\n",
    "import nltk\n",
    "import requests\n",
    "from bs4 import BeautifulSoup\n",
    "from nltk.corpus import stopwords\n",
    "from gensim.models import Word2Vec\n",
    "from nltk.tokenize import word_tokenize"
   ]
  },
  {
   "cell_type": "markdown",
   "id": "44629279",
   "metadata": {},
   "source": [
    "### User Input"
   ]
  },
  {
   "cell_type": "code",
   "execution_count": 4,
   "id": "189a3362",
   "metadata": {},
   "outputs": [],
   "source": [
    "Link = 'https://en.wikipedia.org/wiki/Machine_learning'"
   ]
  },
  {
   "cell_type": "markdown",
   "id": "5aead45b",
   "metadata": {},
   "source": [
    "### Get Data"
   ]
  },
  {
   "cell_type": "code",
   "execution_count": 5,
   "id": "a83121c0",
   "metadata": {
    "scrolled": true
   },
   "outputs": [],
   "source": [
    "### Get Data From Wikipedia\n",
    "Res = requests.get(Link)\n",
    "Raw_Data = BeautifulSoup(Res.content,\"html.parser\")\n",
    "Raw_Data = Raw_Data.find_all('p')\n",
    "\n",
    "### Extrace The Text Only\n",
    "Data = \"\"\n",
    "for i in Raw_Data:\n",
    "    Data = Data + i.text"
   ]
  },
  {
   "cell_type": "markdown",
   "id": "22a5d9f2",
   "metadata": {},
   "source": [
    "## UDF"
   ]
  },
  {
   "cell_type": "markdown",
   "id": "6cb51474",
   "metadata": {},
   "source": [
    "- #### Creating Function To Clean The Data"
   ]
  },
  {
   "cell_type": "code",
   "execution_count": 6,
   "id": "ffce7b6d",
   "metadata": {
    "scrolled": false
   },
   "outputs": [],
   "source": [
    "def Data_Cleaner(Input_Data):\n",
    "    import re\n",
    "    \n",
    "    ### Remove New Line\n",
    "    Data = Input_Data.replace(\"\\n\",\"\")\n",
    "    \n",
    "    ### Removing Everything Which Is Not Alphabets\n",
    "    Data = re.sub(r'[^a-z A-Z . ]',r'',Data)\n",
    "    \n",
    "    ### Remove Stop Words\n",
    "    stop_words_ = stopwords.words('english')\n",
    "    \n",
    "    All_Words = word_tokenize(Data)\n",
    "    \n",
    "    New_Text = []\n",
    "    for Each_Word in All_Words:\n",
    "        if Each_Word not in stop_words_ and len(Each_Word) > 1:\n",
    "            New_Text.append(Each_Word.lower())\n",
    "            \n",
    "    return New_Text"
   ]
  },
  {
   "cell_type": "markdown",
   "id": "8b2bfc49",
   "metadata": {},
   "source": [
    "- #### Create Auto Suggestion Function"
   ]
  },
  {
   "cell_type": "code",
   "execution_count": 7,
   "id": "bd59f5b3",
   "metadata": {},
   "outputs": [],
   "source": [
    "def Similar_Words_Or_Auto_Suggestion_FN(Model_, Word_):\n",
    "    \n",
    "    if Word_ == \"\":\n",
    "        print(\"**** No Word Given ...\")\n",
    "    else:\n",
    "        from pprint import pprint\n",
    "        Word_ = Word_.lower().strip()\n",
    "        \n",
    "        try:\n",
    "            Similar_Words_Or_Auto_Suggestion = Model_.wv.most_similar(Word_)\n",
    "            pprint(Similar_Words_Or_Auto_Suggestion)\n",
    "        except Exception as e:\n",
    "            print(e)"
   ]
  },
  {
   "cell_type": "markdown",
   "id": "02f4d027",
   "metadata": {},
   "source": [
    "## Data Preparation & Model Building"
   ]
  },
  {
   "cell_type": "code",
   "execution_count": 8,
   "id": "7118aa5d",
   "metadata": {},
   "outputs": [],
   "source": [
    "New_Text_Words = Data_Cleaner(Input_Data= Data)\n",
    "\n",
    "Model = Word2Vec([New_Text_Words], size=100, window=5, min_count=1, workers=4)\n",
    "vocabulary = Model.wv.vocab"
   ]
  },
  {
   "cell_type": "markdown",
   "id": "469f6e16",
   "metadata": {},
   "source": [
    "## Predict"
   ]
  },
  {
   "cell_type": "code",
   "execution_count": 9,
   "id": "50d409c8",
   "metadata": {},
   "outputs": [
    {
     "name": "stdout",
     "output_type": "stream",
     "text": [
      "[('supervised', 0.3693794310092926),\n",
      " ('entities', 0.3426278531551361),\n",
      " ('noise', 0.33601826429367065),\n",
      " ('sales', 0.32791492342948914),\n",
      " ('needs', 0.31504398584365845),\n",
      " ('take', 0.31178712844848633),\n",
      " ('learning.researchers', 0.3014490008354187),\n",
      " ('errors', 0.29565364122390747),\n",
      " ('cumulative', 0.2861317992210388),\n",
      " ('often', 0.2851235866546631)]\n"
     ]
    }
   ],
   "source": [
    "Search = \"field   \"\n",
    "\n",
    "Similar_Words_Or_Auto_Suggestion_FN(Model_= Model, Word_= Search)"
   ]
  },
  {
   "cell_type": "code",
   "execution_count": 10,
   "id": "cc19f3d1",
   "metadata": {},
   "outputs": [
    {
     "name": "stdout",
     "output_type": "stream",
     "text": [
      "[('recognizing', 0.3818814158439636),\n",
      " ('imprecise', 0.32076966762542725),\n",
      " ('parties', 0.2993127107620239),\n",
      " ('hopfield', 0.29725536704063416),\n",
      " ('disciplines', 0.29428809881210327),\n",
      " ('remove', 0.2937532067298889),\n",
      " ('e.', 0.2896155118942261),\n",
      " ('centralized', 0.28810209035873413),\n",
      " ('memristor', 0.28264328837394714),\n",
      " ('killed', 0.26521778106689453)]\n"
     ]
    }
   ],
   "source": [
    "Search = \"scientific\"\n",
    "\n",
    "Similar_Words_Or_Auto_Suggestion_FN(Model_= Model, Word_= Search)"
   ]
  },
  {
   "cell_type": "code",
   "execution_count": 11,
   "id": "fbb56ddf",
   "metadata": {},
   "outputs": [
    {
     "name": "stdout",
     "output_type": "stream",
     "text": [
      "[('recognizing', 0.3818814158439636),\n",
      " ('imprecise', 0.32076966762542725),\n",
      " ('parties', 0.2993127107620239),\n",
      " ('hopfield', 0.29725536704063416),\n",
      " ('disciplines', 0.29428809881210327),\n",
      " ('remove', 0.2937532067298889),\n",
      " ('e.', 0.2896155118942261),\n",
      " ('centralized', 0.28810209035873413),\n",
      " ('memristor', 0.28264328837394714),\n",
      " ('killed', 0.26521778106689453)]\n"
     ]
    }
   ],
   "source": [
    "Search = \"scientific\"\n",
    "\n",
    "Similar_Words_Or_Auto_Suggestion_FN(Model_= Model, Word_= Search)"
   ]
  },
  {
   "cell_type": "code",
   "execution_count": 12,
   "id": "29f8e87b",
   "metadata": {},
   "outputs": [
    {
     "name": "stdout",
     "output_type": "stream",
     "text": [
      "[('learning', 0.5697470903396606),\n",
      " ('training', 0.4914713501930237),\n",
      " ('may', 0.4840967655181885),\n",
      " ('algorithms', 0.46642833948135376),\n",
      " ('machine', 0.4632617235183716),\n",
      " ('in', 0.4250651001930237),\n",
      " ('use', 0.418571799993515),\n",
      " ('strongly', 0.4182892143726349),\n",
      " ('called', 0.404998779296875),\n",
      " ('used', 0.3904707431793213)]\n"
     ]
    }
   ],
   "source": [
    "Search = \"data\"\n",
    "\n",
    "Similar_Words_Or_Auto_Suggestion_FN(Model_= Model, Word_= Search)"
   ]
  },
  {
   "cell_type": "code",
   "execution_count": 13,
   "id": "9ab555e1",
   "metadata": {},
   "outputs": [
    {
     "name": "stdout",
     "output_type": "stream",
     "text": [
      "**** No Word Given ...\n"
     ]
    }
   ],
   "source": [
    "Search = \"\"\n",
    "\n",
    "Similar_Words_Or_Auto_Suggestion_FN(Model_= Model, Word_= Search)"
   ]
  },
  {
   "cell_type": "code",
   "execution_count": null,
   "id": "f51d0a01",
   "metadata": {},
   "outputs": [],
   "source": []
  },
  {
   "cell_type": "code",
   "execution_count": null,
   "id": "6432c006",
   "metadata": {},
   "outputs": [],
   "source": []
  }
 ],
 "metadata": {
  "kernelspec": {
   "display_name": "Python 3 (ipykernel)",
   "language": "python",
   "name": "python3"
  },
  "language_info": {
   "codemirror_mode": {
    "name": "ipython",
    "version": 3
   },
   "file_extension": ".py",
   "mimetype": "text/x-python",
   "name": "python",
   "nbconvert_exporter": "python",
   "pygments_lexer": "ipython3",
   "version": "3.9.12"
  }
 },
 "nbformat": 4,
 "nbformat_minor": 5
}
